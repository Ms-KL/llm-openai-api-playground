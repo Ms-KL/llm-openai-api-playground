{
 "cells": [
  {
   "cell_type": "markdown",
   "metadata": {},
   "source": [
    "# **Custom Knowledge ChatGPT with LangChain - Chat with PDFs**\n",
    "\n",
    "**By Liam Ottley:**  [YouTube](https://youtube.com/@LiamOttley)\n",
    "\n",
    "0.   Installs, Imports and API Keys\n",
    "1.   Loading PDFs and chunking with LangChain\n",
    "2.   Embedding text and storing embeddings\n",
    "3.   Creating retrieval function\n",
    "4.   Creating chatbot with chat memory (OPTIONAL) "
   ]
  },
  {
   "cell_type": "markdown",
   "metadata": {},
   "source": [
    "# 0. Installs, Imports and API Keys"
   ]
  },
  {
   "cell_type": "markdown",
   "metadata": {},
   "source": [
    "Anaconda powershell prompt:\n",
    "\n",
    "```shell\n",
    "cd <path>\n",
    "conda activate envpy39 #conda deactivate\n",
    "jupyer notebook\n",
    "\n",
    "```"
   ]
  },
  {
   "cell_type": "code",
   "execution_count": null,
   "metadata": {},
   "outputs": [],
   "source": [
    "# RUN THIS CELL FIRST!\n",
    "!pip install -q langchain==0.0.150 \n",
    "!pip install -q pypdf \n",
    "!pip install -q pandas \n",
    "!pip install -q matplotlib \n",
    "!pip install -q tiktoken \n",
    "!pip install -q textract \n",
    "!pip install -q transformers \n",
    "!pip install -q openai \n",
    "!pip install -q faiss-cpu \n",
    "!pip install -q python-dotenv"
   ]
  },
  {
   "cell_type": "code",
   "execution_count": null,
   "metadata": {},
   "outputs": [],
   "source": [
    "import os\n",
    "import pandas as pd\n",
    "import matplotlib.pyplot as plt\n",
    "from transformers import GPT2TokenizerFast\n",
    "from langchain.document_loaders import PyPDFLoader\n",
    "from langchain.text_splitter import RecursiveCharacterTextSplitter\n",
    "from langchain.embeddings import OpenAIEmbeddings\n",
    "from langchain.vectorstores import FAISS\n",
    "from langchain.chains.question_answering import load_qa_chain\n",
    "from langchain.llms import OpenAI\n",
    "from langchain.chains import ConversationalRetrievalChain"
   ]
  },
  {
   "cell_type": "code",
   "execution_count": null,
   "metadata": {},
   "outputs": [],
   "source": [
    "from dotenv import load_dotenv\n",
    "load_dotenv()"
   ]
  },
  {
   "cell_type": "code",
   "execution_count": null,
   "metadata": {},
   "outputs": [],
   "source": [
    "os.environ[\"OPENAI_API_KEY\"] = os.getenv(\"OPENAI_API_KEY\")\n",
    "# protect secret key"
   ]
  },
  {
   "cell_type": "markdown",
   "metadata": {},
   "source": [
    "# 1. Loading PDFs and chunking with LangChain"
   ]
  },
  {
   "cell_type": "code",
   "execution_count": null,
   "metadata": {},
   "outputs": [],
   "source": [
    "# You MUST add your PDF to local files in this notebook (folder icon on left hand side of screen)\n",
    "\n",
    "# Simple method - Split by pages \n",
    "loader = PyPDFLoader(\"./reports/resume.pdf\")\n",
    "pages = loader.load_and_split()\n",
    "print(pages[0])\n",
    "\n",
    "chunks = pages\n",
    "\n",
    "# chunks = pages\n"
   ]
  },
  {
   "cell_type": "markdown",
   "metadata": {},
   "source": [
    "# 2. Embed text and store embeddings"
   ]
  },
  {
   "cell_type": "code",
   "execution_count": null,
   "metadata": {},
   "outputs": [],
   "source": [
    "# Get embedding model\n",
    "embeddings = OpenAIEmbeddings()\n",
    "\n",
    "# Create vector database\n",
    "db = FAISS.from_documents(chunks, embeddings)"
   ]
  },
  {
   "cell_type": "markdown",
   "metadata": {},
   "source": [
    "# 3. Setup retrieval function"
   ]
  },
  {
   "cell_type": "code",
   "execution_count": null,
   "metadata": {},
   "outputs": [],
   "source": [
    "# Check similarity search is working\n",
    "query = \"Please summarise kristy's experience?\"\n",
    "docs = db.similarity_search(query)\n",
    "docs[0]"
   ]
  },
  {
   "cell_type": "code",
   "execution_count": null,
   "metadata": {},
   "outputs": [],
   "source": [
    "# Create QA chain to integrate similarity search with user queries (answer query from knowledge base)\n",
    "\n",
    "chain = load_qa_chain(OpenAI(temperature=0), chain_type=\"stuff\")\n",
    "\n",
    "query = \"please summarise kristy's experience?\"\n",
    "docs = db.similarity_search(query)\n",
    "\n",
    "chain.run(input_documents=docs, question=query)"
   ]
  },
  {
   "cell_type": "markdown",
   "metadata": {},
   "source": [
    "# 4. Create chatbot with chat memory (OPTIONAL) "
   ]
  },
  {
   "cell_type": "code",
   "execution_count": null,
   "metadata": {},
   "outputs": [],
   "source": [
    "!pip install -q ipywidgets \n",
    "# the issue here is that the ipywidgets version is not compatible with the notebook version. \n",
    "# !jupyter nbextension enable --py widgetsnbextension # alternative"
   ]
  },
  {
   "cell_type": "code",
   "execution_count": null,
   "metadata": {},
   "outputs": [],
   "source": [
    "# import widgets\n",
    "from IPython.display import display\n",
    "import ipywidgets as widgets\n",
    "\n",
    "# Create conversation chain that uses our vectordb as retriever, this also allows for chat history management\n",
    "qa = ConversationalRetrievalChain.from_llm(OpenAI(temperature=0.1), db.as_retriever()) \n",
    "# this variable will store the chatbot. Temperature is a parameter that controls the randomness of the chatbot's responses. retriever is the vector database we created earlier\n",
    "# conversational retrieval chain is a chain that allows for chat history management\n",
    "\n",
    "chat_history = [] # this variable will store the chat history\n",
    "\n",
    "def on_submit(_):\n",
    "    '''\n",
    "    this function is called when the user clicks the submit button\n",
    "    it does the following actions:\n",
    "    - gets the user query from the input box\n",
    "    - clears the input box\n",
    "    - runs the query through the chatbot\n",
    "    - displays the chatbot output\n",
    "    '''\n",
    "    query = input_box.value # get the user query from the input box\n",
    "    input_box.value = \"\" # clear the input box\n",
    "    \n",
    "    if query.lower() == 'exit':\n",
    "        '''\n",
    "        this if statement checks if the user wants to exit the chatbot\n",
    "        '''\n",
    "        print(\"Thank you for using the State of the Union chatbot!\")\n",
    "        return\n",
    "    \n",
    "    result = qa({\"question\": query, \"chat_history\": chat_history}) # run the query through the chatbot\n",
    "    chat_history.append((query, result['answer'])) # add the query and the chatbot output to the chat history\n",
    "    \n",
    "    display(widgets.HTML(f'<b>User:</b> {query}')) # display the user query\n",
    "    display_chatbot_output(result) # display the chatbot output\n",
    "\n",
    "def display_chatbot_output(result):\n",
    "    '''\n",
    "    this function displays the chatbot output\n",
    "    it does the following actions:\n",
    "    - displays the chatbot output\n",
    "    '''\n",
    "    display(widgets.HTML(f'<b><font color=\"blue\">Chatbot:</font></b> {result[\"answer\"]}'))\n",
    "\n",
    "print(\"Welcome to Kristy's Career chatbot. Type 'exit' to stop.\")\n",
    "\n",
    "input_box = widgets.Text(placeholder='Please enter your question:')\n",
    "display(input_box)\n",
    "\n",
    "button = widgets.Button(description=\"Submit\") # create a button that will be used to submit the user query\n",
    "button.on_click(on_submit)\n",
    "display(button)"
   ]
  },
  {
   "cell_type": "code",
   "execution_count": null,
   "metadata": {},
   "outputs": [],
   "source": []
  }
 ],
 "metadata": {
  "kernelspec": {
   "display_name": "Python 3 (ipykernel)",
   "language": "python",
   "name": "python3"
  },
  "language_info": {
   "codemirror_mode": {
    "name": "ipython",
    "version": 3
   },
   "file_extension": ".py",
   "mimetype": "text/x-python",
   "name": "python",
   "nbconvert_exporter": "python",
   "pygments_lexer": "ipython3",
   "version": "3.9.17"
  }
 },
 "nbformat": 4,
 "nbformat_minor": 2
}
